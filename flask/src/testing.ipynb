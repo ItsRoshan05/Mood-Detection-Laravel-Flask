{
 "cells": [
  {
   "cell_type": "code",
   "execution_count": 9,
   "metadata": {},
   "outputs": [],
   "source": [
    "import joblib\n",
    "from sklearn.feature_extraction.text import TfidfVectorizer\n",
    "from sklearn.naive_bayes import MultinomialNB\n",
    "\n",
    "# Memuat model Naive Bayes yang telah disimpan\n",
    "nb_model = joblib.load('../model/main_0_1.joblib')\n",
    "\n",
    "# Memuat TF-IDF vectorizer yang telah disimpan\n",
    "tfidf_vectorizer = joblib.load('../model/mainTfidf_0_1.joblib')\n"
   ]
  },
  {
   "cell_type": "code",
   "execution_count": 11,
   "metadata": {},
   "outputs": [
    {
     "name": "stdout",
     "output_type": "stream",
     "text": [
      "Prediksi:  ['Sad']\n"
     ]
    }
   ],
   "source": [
    "# Data baru yang akan diuji\n",
    "new_data = [\"Pagi dibuat emosiiiii !!\"]\n",
    "\n",
    "# Transformasi data baru menggunakan TF-IDF vectorizer\n",
    "new_data_tfidf = tfidf_vectorizer.transform(new_data)\n",
    "\n",
    "# Melakukan prediksi dengan model Naive Bayes\n",
    "predictions = nb_model.predict(new_data_tfidf)\n",
    "\n",
    "# Menampilkan hasil prediksi\n",
    "print(\"Prediksi: \", predictions)\n"
   ]
  },
  {
   "cell_type": "code",
   "execution_count": null,
   "metadata": {},
   "outputs": [],
   "source": []
  }
 ],
 "metadata": {
  "kernelspec": {
   "display_name": "Python 3",
   "language": "python",
   "name": "python3"
  },
  "language_info": {
   "codemirror_mode": {
    "name": "ipython",
    "version": 3
   },
   "file_extension": ".py",
   "mimetype": "text/x-python",
   "name": "python",
   "nbconvert_exporter": "python",
   "pygments_lexer": "ipython3",
   "version": "3.10.6"
  }
 },
 "nbformat": 4,
 "nbformat_minor": 2
}
